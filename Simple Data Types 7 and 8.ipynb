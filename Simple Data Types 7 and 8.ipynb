{
 "cells": [
  {
   "cell_type": "code",
   "execution_count": null,
   "id": "2eac74c8-3142-499e-8ecd-794df13cf4b4",
   "metadata": {},
   "outputs": [],
   "source": [
    "\"Question 7\"\n",
    "Medication = 5\n",
    "print(Medication)"
   ]
  },
  {
   "cell_type": "code",
   "execution_count": null,
   "id": "ae24490e-6fdd-4a19-9f02-281533111ffd",
   "metadata": {},
   "outputs": [],
   "source": [
    "\"Question 8\"\n",
    "Weight = 60\n",
    "Height = 1.58\n",
    "\n",
    "BMI = Weight/((Height)**2)\n",
    "print(BMI)"
   ]
  }
 ],
 "metadata": {
  "kernelspec": {
   "display_name": "Python 3 (ipykernel)",
   "language": "python",
   "name": "python3"
  },
  "language_info": {
   "codemirror_mode": {
    "name": "ipython",
    "version": 3
   },
   "file_extension": ".py",
   "mimetype": "text/x-python",
   "name": "python",
   "nbconvert_exporter": "python",
   "pygments_lexer": "ipython3",
   "version": "3.12.4"
  }
 },
 "nbformat": 4,
 "nbformat_minor": 5
}
