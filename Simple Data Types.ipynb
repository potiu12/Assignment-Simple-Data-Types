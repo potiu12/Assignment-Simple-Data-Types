{
 "cells": [
  {
   "cell_type": "code",
   "execution_count": 10,
   "id": "72161679-9e13-4bf2-baea-c466f7b765ca",
   "metadata": {},
   "outputs": [
    {
     "name": "stdout",
     "output_type": "stream",
     "text": [
      "5\n"
     ]
    }
   ],
   "source": [
    "Medication = 5\n",
    "print(Medication)\n"
   ]
  },
  {
   "cell_type": "code",
   "execution_count": null,
   "id": "9bd283ed-728b-4696-baef-a1fb02d0f41a",
   "metadata": {},
   "outputs": [],
   "source": []
  },
  {
   "cell_type": "code",
   "execution_count": null,
   "id": "38646ca6-6caf-4359-8b5b-63269c262fd4",
   "metadata": {},
   "outputs": [],
   "source": []
  },
  {
   "cell_type": "code",
   "execution_count": null,
   "id": "338da222-895e-476c-8c90-0c8d4c883e70",
   "metadata": {},
   "outputs": [],
   "source": []
  }
 ],
 "metadata": {
  "kernelspec": {
   "display_name": "Python 3 (ipykernel)",
   "language": "python",
   "name": "python3"
  },
  "language_info": {
   "codemirror_mode": {
    "name": "ipython",
    "version": 3
   },
   "file_extension": ".py",
   "mimetype": "text/x-python",
   "name": "python",
   "nbconvert_exporter": "python",
   "pygments_lexer": "ipython3",
   "version": "3.12.4"
  }
 },
 "nbformat": 4,
 "nbformat_minor": 5
}
