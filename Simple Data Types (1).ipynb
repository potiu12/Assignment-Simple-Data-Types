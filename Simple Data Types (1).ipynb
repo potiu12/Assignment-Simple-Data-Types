{
 "cells": [
  {
   "cell_type": "code",
   "execution_count": 22,
   "id": "03a8f19f-edff-4289-92a2-a01b8d8ffd96",
   "metadata": {},
   "outputs": [
    {
     "name": "stdout",
     "output_type": "stream",
     "text": [
      "2\n"
     ]
    }
   ],
   "source": [
    "\"Q1\"\n",
    "Q1 = True + True - False \n",
    "print(Q1)\n"
   ]
  },
  {
   "cell_type": "code",
   "execution_count": 38,
   "id": "38646ca6-6caf-4359-8b5b-63269c262fd4",
   "metadata": {},
   "outputs": [
    {
     "name": "stdout",
     "output_type": "stream",
     "text": [
      "1\n"
     ]
    }
   ],
   "source": [
    "\"Q2\"\n",
    "logicaltracker = True\n",
    "\n",
    "logicaltracker = logicaltracker & logicaltracker\n",
    "\n",
    "logicaltracker = logicaltracker | (logicaltracker - logicaltracker)\n",
    "\n",
    "print(logicaltracker)"
   ]
  },
  {
   "cell_type": "code",
   "execution_count": 42,
   "id": "338da222-895e-476c-8c90-0c8d4c883e70",
   "metadata": {},
   "outputs": [
    {
     "name": "stdout",
     "output_type": "stream",
     "text": [
      "\" \"\n"
     ]
    }
   ],
   "source": [
    "\"Q5\"\n",
    "string = \"E. Coli\"\n",
    "print('\"'+ string[2] + '\"') \"i added the \"\" so the space is visible\""
   ]
  },
  {
   "cell_type": "code",
   "execution_count": 46,
   "id": "17520ebe-6422-49ae-ae19-d11cf6a3ecec",
   "metadata": {},
   "outputs": [
    {
     "name": "stdout",
     "output_type": "stream",
     "text": [
      "I Bove python\n"
     ]
    },
    {
     "data": {
      "text/plain": [
       "'an error occurs'"
      ]
     },
     "execution_count": 46,
     "metadata": {},
     "output_type": "execute_result"
    }
   ],
   "source": [
    "\"Q6\"\n",
    "string = \"I Bove python\"\n",
    "#string[2]=\"L\"\n",
    "print(string)\n",
    "\n",
    "\"an error occurs\""
   ]
  },
  {
   "cell_type": "code",
   "execution_count": 34,
   "id": "72161679-9e13-4bf2-baea-c466f7b765ca",
   "metadata": {},
   "outputs": [
    {
     "name": "stdout",
     "output_type": "stream",
     "text": [
      "5\n"
     ]
    }
   ],
   "source": [
    "\"Question 7\"\n",
    "Medication = 5\n",
    "print(Medication)\n"
   ]
  },
  {
   "cell_type": "code",
   "execution_count": 36,
   "id": "9bd283ed-728b-4696-baef-a1fb02d0f41a",
   "metadata": {},
   "outputs": [
    {
     "name": "stdout",
     "output_type": "stream",
     "text": [
      "24.034609838166958\n"
     ]
    }
   ],
   "source": [
    "\"Question 8\"\n",
    "Weight = 60\n",
    "Height = 1.58\n",
    "\n",
    "BMI = Weight/((Height)**2)\n",
    "print(BMI)"
   ]
  },
  {
   "cell_type": "code",
   "execution_count": 57,
   "id": "698c4a6a-e557-47a1-a0c9-f9a9e849f08d",
   "metadata": {},
   "outputs": [
    {
     "name": "stdout",
     "output_type": "stream",
     "text": [
      "10\n",
      "Hello\n"
     ]
    }
   ],
   "source": [
    "\"Q9\"\n",
    "#For integers, it acts as a normal math addition. It adds the value of the integers to produce the sum of those integers. For example:\n",
    "\n",
    "sum1 = 1 + 9\n",
    "print(sum1)\n",
    "\n",
    "#For strings, it puts together both strings to form a new single string with both strings. For example:\n",
    "\n",
    "string1 = \"Hell\"\n",
    "string2 = \"o\"\n",
    "string3=string1 + string2\n",
    "print(string3)\n",
    "#string3 would turn out to be \"Hello\" "
   ]
  },
  {
   "cell_type": "code",
   "execution_count": 55,
   "id": "f0244592-a590-4a4f-b535-75afab8b3d8b",
   "metadata": {},
   "outputs": [
    {
     "name": "stdout",
     "output_type": "stream",
     "text": [
      "73\n"
     ]
    }
   ],
   "source": [
    "\"Q10\"\n",
    "string4 = \"7\" + \"3\"\n",
    "print(string4)\n"
   ]
  },
  {
   "cell_type": "code",
   "execution_count": null,
   "id": "c22c59ad-3278-4181-a196-a56c51973030",
   "metadata": {},
   "outputs": [],
   "source": []
  }
 ],
 "metadata": {
  "kernelspec": {
   "display_name": "Python 3 (ipykernel)",
   "language": "python",
   "name": "python3"
  },
  "language_info": {
   "codemirror_mode": {
    "name": "ipython",
    "version": 3
   },
   "file_extension": ".py",
   "mimetype": "text/x-python",
   "name": "python",
   "nbconvert_exporter": "python",
   "pygments_lexer": "ipython3",
   "version": "3.12.4"
  }
 },
 "nbformat": 4,
 "nbformat_minor": 5
}
